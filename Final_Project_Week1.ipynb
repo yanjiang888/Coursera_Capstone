{
 "cells": [
  {
   "cell_type": "markdown",
   "metadata": {
    "collapsed": true
   },
   "source": [
    "<h1>Capstone Project - The Battle of Neighborhoods (Week 1)</h1>\n"
   ]
  },
  {
   "cell_type": "markdown",
   "metadata": {},
   "source": [
    "<h2>1. A description of the problem and a discussion of the background</h2>\n"
   ]
  },
  {
   "cell_type": "markdown",
   "metadata": {},
   "source": [
    "<h2>Problem Statement</h2>"
   ]
  },
  {
   "cell_type": "markdown",
   "metadata": {},
   "source": [
    "Categorize Rank Toronto neighborhood properties and recommend top houses/condos that match customer expectation."
   ]
  },
  {
   "cell_type": "markdown",
   "metadata": {},
   "source": [
    "<h2>Background</h2>"
   ]
  },
  {
   "cell_type": "markdown",
   "metadata": {},
   "source": [
    "One of the tough questions when people purchasing homes is which one to offer/buy? There are so many considerations such as location, neighborhood, prices, ..., etc. In this project, I would like to create a hypothetical business scenario to categorize Toronto neighborhood properties and recommend top houses/condos that match customer expectation.\n"
   ]
  },
  {
   "cell_type": "markdown",
   "metadata": {},
   "source": [
    "<h2>2. A description of the data and how it will be used to solve the problem</h2>"
   ]
  },
  {
   "cell_type": "markdown",
   "metadata": {},
   "source": [
    "1)Use raw data provided by Wikipedia,<br> \n",
    "2)Geographical coordinates from python library <br>\n",
    "3)Location data from FourSquare <br>\n",
    "4)A dataset provided by the customer as his/her expectation/rating."
   ]
  },
  {
   "cell_type": "markdown",
   "metadata": {},
   "source": [
    "Wikipedia dataset contains a list of Canadian postal codes. I will retreive it by scraping a table from the website. I will use this dataset to create a geographical segmentation of Toronto based on postal code, and link it to coordinates."
   ]
  },
  {
   "cell_type": "code",
   "execution_count": null,
   "metadata": {},
   "outputs": [],
   "source": []
  }
 ],
 "metadata": {
  "kernelspec": {
   "display_name": "Python 3.6",
   "language": "python",
   "name": "python3"
  },
  "language_info": {
   "codemirror_mode": {
    "name": "ipython",
    "version": 3
   },
   "file_extension": ".py",
   "mimetype": "text/x-python",
   "name": "python",
   "nbconvert_exporter": "python",
   "pygments_lexer": "ipython3",
   "version": "3.6.8"
  }
 },
 "nbformat": 4,
 "nbformat_minor": 1
}
